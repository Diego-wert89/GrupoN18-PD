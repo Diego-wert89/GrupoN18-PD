{
 "cells": [
  {
   "attachments": {},
   "cell_type": "markdown",
   "metadata": {},
   "source": [
    "# Proyecto Final: Procesamiento de Datos - Grupo N°18"
   ]
  },
  {
   "attachments": {},
   "cell_type": "markdown",
   "metadata": {},
   "source": [
    "**Integrantes:**\n",
    "\n",
    "    * Gutiérrez Diego - dgutierrez.m79@gmail.com - Git_user:Diego-wert89\n",
    "    * Gutiérrez Laura - laurasgneco@gmail.com - Git_user:laurasg2022\n",
    "    * Hilgemberg Maria Sol - shilgembergmariasol22@gmail.com - Git_user:sol-hilgemberg\n",
    "    * Lara Mariela - marzular@gmail.com - Git_user:MARIELARA\n",
    "    * Ruani Julio - julio.ruani@gmail.com - Git_user:immersSoftware\n",
    "    * Sánchez Jorge Ignacio - nacho.sanchezsolano@gmail.com - Git_user:nachosanchezsolano\n",
    "    * Valdiviezo Melisa - melisa.valdiviezo@gmail.com - Git_user:MEV-656"
   ]
  },
  {
   "attachments": {},
   "cell_type": "markdown",
   "metadata": {},
   "source": [
    " **El proyecto consiste en desarrollar un procesamiento de datos que incluya las siguientes etapas:** \n",
    "\n",
    "**1) Recolección y preparación de datos: Obtener o recolectar conjuntos de datos relevantes para el tema elegido. Realizar las tareas de limpieza, integración y transformación necesarias para preparar los datos para el análisis.**\n",
    "\n",
    "Para el proyecto utilizamos el siguiente dataset: https://www.kaggle.com/datasets/arnabchaki/data-science-salaries-2023\n",
    "\n",
    "Este data set contiene un archivo csv listo para la carga y empezar el desarrollo."
   ]
  }
 ],
 "metadata": {
  "language_info": {
   "name": "python"
  },
  "orig_nbformat": 4
 },
 "nbformat": 4,
 "nbformat_minor": 2
}
