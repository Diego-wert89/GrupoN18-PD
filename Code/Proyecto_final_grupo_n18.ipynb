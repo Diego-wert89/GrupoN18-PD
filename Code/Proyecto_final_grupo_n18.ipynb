{
 "cells": [
  {
   "attachments": {},
   "cell_type": "markdown",
   "metadata": {},
   "source": [
    "# Proyecto Final: Procesamiento de Datos - Grupo N°18"
   ]
  },
  {
   "attachments": {},
   "cell_type": "markdown",
   "metadata": {},
   "source": [
    "Integrantes:\n",
    "\n",
    "    * Gutiérrez Diego - dgutierrez.m79@gmail.com - Git_user:Diego-wert89\n",
    "    * Gutiérrez Laura - laurasgneco@gmail.com - Git_user:laurasg2022\n",
    "    * Hilgemberg Maria Sol - shilgembergmariasol22@gmail.com - Git_user:sol-hilgemberg\n",
    "    * Lara Mariela - marzular@gmail.com - Git_user:MARIELARA\n",
    "    * Ruani Julio - julio.ruani@gmail.com - Git_user:immersSoftware\n",
    "    * Sánchez Jorge Ignacio - nacho.sanchezsolano@gmail.com - Git_user:nachosanchezsolano\n",
    "    * Valdiviezo Melisa - melisa.valdiviezo@gmail.com - Git_user:MEV-656"
   ]
  }
 ],
 "metadata": {
  "language_info": {
   "name": "python"
  },
  "orig_nbformat": 4
 },
 "nbformat": 4,
 "nbformat_minor": 2
}
